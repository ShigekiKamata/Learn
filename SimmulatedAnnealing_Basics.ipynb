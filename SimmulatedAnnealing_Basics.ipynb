{
  "nbformat": 4,
  "nbformat_minor": 0,
  "metadata": {
    "colab": {
      "provenance": [],
      "authorship_tag": "ABX9TyNa9eTXfUDJOJtW2hHNhrSX",
      "include_colab_link": true
    },
    "kernelspec": {
      "name": "python3",
      "display_name": "Python 3"
    },
    "language_info": {
      "name": "python"
    }
  },
  "cells": [
    {
      "cell_type": "markdown",
      "metadata": {
        "id": "view-in-github",
        "colab_type": "text"
      },
      "source": [
        "<a href=\"https://colab.research.google.com/github/ShigekiKamata/Learn/blob/main/SimmulatedAnnealing_Basics.ipynb\" target=\"_parent\"><img src=\"https://colab.research.google.com/assets/colab-badge.svg\" alt=\"Open In Colab\"/></a>"
      ]
    },
    {
      "cell_type": "code",
      "execution_count": 2,
      "metadata": {
        "colab": {
          "base_uri": "https://localhost:8080/"
        },
        "id": "IJRl6LAWlobE",
        "outputId": "8da7ccca-0d80-4be6-cf90-cec4084395f2"
      },
      "outputs": [
        {
          "output_type": "stream",
          "name": "stdout",
          "text": [
            "x = 2, y = 1\n",
            "z = 52\n"
          ]
        }
      ],
      "source": [
        "import numpy as np\n",
        "import matplotlib.pyplot as plt\n",
        "\n",
        "np.seterr(divide='ignore', invalid='ignore')\n",
        "\n",
        "# Initial Solution\n",
        "x = 2\n",
        "y = 1\n",
        "\n",
        "# Objective function\n",
        "z = (x**2 + y - 11)**2 + (x + y**2 - 7)**2\n",
        "\n",
        "def f(x, y):\n",
        "    print(f'x = {x}, y = {y}')\n",
        "    print(f'z = {(x**2 + y - 11)**2 + (x + y**2 - 7)**2}')\n",
        "    return (x**2 + y - 11)**2 + (x + y**2 - 7)**2\n",
        "\n",
        "f(x,y)\n",
        "\n",
        "\n",
        "# Temperature\n",
        "T0 = 1000\n",
        "temp_for_plot = T0\n",
        "# Number of temperture drop\n",
        "M = 300\n",
        "# Number of neighborhood search per a temperature\n",
        "N = 15\n",
        "# Cooling rate\n",
        "alpha = 0.85\n",
        "# Step size (how far can a solution go in one radom move)\n",
        "k = 0.1"
      ]
    },
    {
      "cell_type": "code",
      "source": [
        "def make_move(num):\n",
        "  rdm1 = np.random.rand()  # plus or minus\n",
        "  rdm2 = np.random.rand()  # distance to travel\n",
        "  if rdm1 >= 0.5:\n",
        "    move = k * rdm2\n",
        "  else:\n",
        "    move = -k * rdm2\n",
        "\n",
        "  return move\n",
        "\n",
        "# Neighborhood search\n",
        "for i in range(M):\n",
        "  for j in range(N):\n",
        "    x_move = make_move(x)\n",
        "    y_move = make_move(y)\n",
        "\n",
        "    # Temporary Solution\n",
        "    x_tmp = x + x_move\n",
        "    y_tmp = y + y_move\n",
        "\n",
        "    # Temporary Objective Function\n",
        "    z_tmp = f(x_tmp, y_tmp)\n",
        "\n",
        "    # Acceptance\n",
        "    if z_tmp < z:\n",
        "      x = x_tmp\n",
        "      y = y_tmp\n",
        "      z = z_tmp\n",
        "    elif np.random.rand() < np.exp(-(z_tmp - z) / temp_for_plot):\n",
        "        x = x_tmp\n",
        "        y = y_tmp\n",
        "        z = z_tmp\n",
        "    else:\n",
        "        continue\n",
        "\n",
        "  # Cooling\n",
        "  temp_for_plot = alpha * temp_for_plot\n",
        "\n",
        "\n",
        "\n"
      ],
      "metadata": {
        "id": "I_m2T8Xjn0jm"
      },
      "execution_count": null,
      "outputs": []
    }
  ]
}